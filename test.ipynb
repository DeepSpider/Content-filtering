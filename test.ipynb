{
 "cells": [
  {
   "cell_type": "code",
   "execution_count": 1,
   "metadata": {},
   "outputs": [],
   "source": [
    "from tensorflow.keras.models import load_model\n",
    "import cv2\n",
    "import numpy as np\n",
    "import os"
   ]
  },
  {
   "cell_type": "code",
   "execution_count": 2,
   "metadata": {},
   "outputs": [],
   "source": [
    "base_path = r'G:\\Jupyter-projects\\NSFW-Classifier'"
   ]
  },
  {
   "cell_type": "code",
   "execution_count": 3,
   "metadata": {},
   "outputs": [],
   "source": [
    "new_model = load_model(\"{}/models/nsfw_classifier_v9.h5\".format(base_path))"
   ]
  },
  {
   "cell_type": "code",
   "execution_count": 4,
   "metadata": {},
   "outputs": [
    {
     "name": "stdout",
     "output_type": "stream",
     "text": [
      "Model: \"sequential\"\n",
      "_________________________________________________________________\n",
      "Layer (type)                 Output Shape              Param #   \n",
      "=================================================================\n",
      "conv2d (Conv2D)              (None, 304, 304, 64)      1792      \n",
      "_________________________________________________________________\n",
      "conv2d_1 (Conv2D)            (None, 302, 302, 128)     73856     \n",
      "_________________________________________________________________\n",
      "max_pooling2d (MaxPooling2D) (None, 151, 151, 128)     0         \n",
      "_________________________________________________________________\n",
      "conv2d_2 (Conv2D)            (None, 149, 149, 128)     147584    \n",
      "_________________________________________________________________\n",
      "conv2d_3 (Conv2D)            (None, 147, 147, 128)     147584    \n",
      "_________________________________________________________________\n",
      "conv2d_4 (Conv2D)            (None, 145, 145, 64)      73792     \n",
      "_________________________________________________________________\n",
      "max_pooling2d_1 (MaxPooling2 (None, 72, 72, 64)        0         \n",
      "_________________________________________________________________\n",
      "flatten (Flatten)            (None, 331776)            0         \n",
      "_________________________________________________________________\n",
      "dense (Dense)                (None, 64)                21233728  \n",
      "_________________________________________________________________\n",
      "dense_1 (Dense)              (None, 64)                4160      \n",
      "_________________________________________________________________\n",
      "dropout (Dropout)            (None, 64)                0         \n",
      "_________________________________________________________________\n",
      "dense_2 (Dense)              (None, 1)                 65        \n",
      "=================================================================\n",
      "Total params: 21,682,561\n",
      "Trainable params: 21,682,561\n",
      "Non-trainable params: 0\n",
      "_________________________________________________________________\n"
     ]
    }
   ],
   "source": [
    "new_model.summary()"
   ]
  },
  {
   "cell_type": "code",
   "execution_count": 5,
   "metadata": {},
   "outputs": [],
   "source": [
    "size = 306"
   ]
  },
  {
   "cell_type": "markdown",
   "metadata": {},
   "source": [
    "### Testing safe images"
   ]
  },
  {
   "cell_type": "code",
   "execution_count": 6,
   "metadata": {},
   "outputs": [
    {
     "name": "stdout",
     "output_type": "stream",
     "text": [
      "a.jpg\n",
      "b.jpg\n",
      "Correct : 8, Wrong : 2, Total : 10\n"
     ]
    }
   ],
   "source": [
    "correct = 0\n",
    "wrong = 0\n",
    "for file in os.listdir(\"{}/new_tests/neg\".format(base_path)):\n",
    "    try:\n",
    "        test = \"{}/new_tests/neg/{}\".format(base_path, file)\n",
    "        test_img = cv2.imread(test, cv2.IMREAD_UNCHANGED)\n",
    "        test_img_re = cv2.resize(test_img, (size, size), interpolation=cv2.INTER_AREA)\n",
    "        # print(test_img.shape)\n",
    "        test_img = np.expand_dims(test_img_re, axis=0)\n",
    "        # print(test_img.shape)\n",
    "        result = new_model.predict(test_img) > 0.3\n",
    "        if result[0][0]:\n",
    "            wrong += 1\n",
    "            print(file)\n",
    "        else:\n",
    "            correct += 1\n",
    "    except Exception as e:\n",
    "        print(\"Error : {}\".format(str(e)))\n",
    "print(\"Correct : {}, Wrong : {}, Total : {}\".format(correct, wrong, wrong + correct))"
   ]
  },
  {
   "cell_type": "markdown",
   "metadata": {},
   "source": [
    "### Testing not safe images"
   ]
  },
  {
   "cell_type": "code",
   "execution_count": 7,
   "metadata": {},
   "outputs": [
    {
     "name": "stdout",
     "output_type": "stream",
     "text": [
      "Correct : 10, Wrong : 0, Total : 10\n"
     ]
    }
   ],
   "source": [
    "correct = 0\n",
    "wrong = 0\n",
    "for file in os.listdir(\"{}/new_tests/pos\".format(base_path)):\n",
    "    try:\n",
    "        test = \"{}/new_tests/pos/{}\".format(base_path, file)\n",
    "        test_img = cv2.imread(test, cv2.IMREAD_UNCHANGED)\n",
    "        test_img_re = cv2.resize(test_img, (size, size), interpolation=cv2.INTER_AREA)\n",
    "        # print(test_img.shape)\n",
    "        test_img = np.expand_dims(test_img_re, axis=0)\n",
    "        # print(test_img.shape)\n",
    "        result = new_model.predict(test_img) > 0.5\n",
    "        if result[0][0]:\n",
    "            correct += 1\n",
    "        else:\n",
    "            wrong += 1\n",
    "            print(file)\n",
    "    except Exception as e:\n",
    "        print(\"Error : {}\".format(str(e)))\n",
    "print(\"Correct : {}, Wrong : {}, Total : {}\".format(correct, wrong, wrong + correct))"
   ]
  },
  {
   "cell_type": "code",
   "execution_count": null,
   "metadata": {},
   "outputs": [],
   "source": []
  }
 ],
 "metadata": {
  "kernelspec": {
   "display_name": "Python 3",
   "language": "python",
   "name": "python3"
  },
  "language_info": {
   "codemirror_mode": {
    "name": "ipython",
    "version": 3
   },
   "file_extension": ".py",
   "mimetype": "text/x-python",
   "name": "python",
   "nbconvert_exporter": "python",
   "pygments_lexer": "ipython3",
   "version": "3.7.4"
  }
 },
 "nbformat": 4,
 "nbformat_minor": 4
}
